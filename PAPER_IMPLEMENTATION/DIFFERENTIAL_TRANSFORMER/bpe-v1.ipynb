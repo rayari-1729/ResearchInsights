{
 "cells": [
  {
   "cell_type": "code",
   "execution_count": 1,
   "metadata": {},
   "outputs": [],
   "source": [
    "#BPE Training notebook from https://github.com/Infatoshi/fcc-intro-to-llms\n",
    "\n",
    "from tokenizers import Tokenizer\n",
    "from tokenizers.models import BPE\n",
    "from tokenizers.trainers import BpeTrainer\n",
    "from tokenizers.pre_tokenizers import Whitespace\n"
   ]
  },
  {
   "cell_type": "code",
   "execution_count": 3,
   "metadata": {},
   "outputs": [
    {
     "name": "stdout",
     "output_type": "stream",
     "text": [
      "--2024-06-18 05:22:53--  http://www.gutenberg.org/cache/epub/16457/pg16457.txt\n",
      "Resolving www.gutenberg.org (www.gutenberg.org)... 152.19.134.47, 2610:28:3090:3000:0:bad:cafe:47\n",
      "Connecting to www.gutenberg.org (www.gutenberg.org)|152.19.134.47|:80... connected.\n",
      "HTTP request sent, awaiting response... 302 Found\n",
      "Location: https://www.gutenberg.org/cache/epub/16457/pg16457.txt [following]\n",
      "--2024-06-18 05:22:54--  https://www.gutenberg.org/cache/epub/16457/pg16457.txt\n",
      "Connecting to www.gutenberg.org (www.gutenberg.org)|152.19.134.47|:443... connected.\n",
      "HTTP request sent, awaiting response... 200 OK\n",
      "Length: 617752 (603K) [text/plain]\n",
      "Saving to: ‘pg16457.txt’\n",
      "\n",
      "pg16457.txt         100%[===================>] 603.27K   424KB/s    in 1.4s    \n",
      "\n",
      "2024-06-18 05:22:57 (424 KB/s) - ‘pg16457.txt’ saved [617752/617752]\n",
      "\n"
     ]
    }
   ],
   "source": [
    "# Data used \n",
    "# !wget http://www.gutenberg.org/cache/epub/16457/pg16457.txt"
   ]
  },
  {
   "cell_type": "code",
   "execution_count": 2,
   "metadata": {},
   "outputs": [
    {
     "ename": "",
     "evalue": "",
     "output_type": "error",
     "traceback": [
      "\u001b[1;31mThe Kernel crashed while executing code in the current cell or a previous cell. \n",
      "\u001b[1;31mPlease review the code in the cell(s) to identify a possible cause of the failure. \n",
      "\u001b[1;31mClick <a href='https://aka.ms/vscodeJupyterKernelCrash'>here</a> for more info. \n",
      "\u001b[1;31mView Jupyter <a href='command:jupyter.viewOutput'>log</a> for further details."
     ]
    }
   ],
   "source": [
    "# Initialize a tokenizer with BPE model\n",
    "tokenizer = Tokenizer(BPE(unk_token=\"[UNK]\"))\n",
    "tokenizer.pre_tokenizer = Whitespace()\n",
    "\n",
    "# Create a BpeTrainer with your desired vocabulary size\n",
    "vocab_size = 1000  # Adjust the vocabulary size here\n",
    "trainer = BpeTrainer(special_tokens=[\"[UNK]\", \"[CLS]\", \"[SEP]\", \"[PAD]\", \"[MASK]\"], vocab_size=vocab_size)\n",
    "\n",
    "# List of files to train the tokenizer on\n",
    "files = [\"data/train.txt\"]\n",
    "\n",
    "# Train the tokenizer\n",
    "tokenizer.train(files, trainer)\n",
    "\n",
    "# Save the tokenizer\n",
    "tokenizer.save(\"bpe_tokenizer_bookcorpus_1k.json\")"
   ]
  },
  {
   "cell_type": "code",
   "execution_count": null,
   "metadata": {},
   "outputs": [
    {
     "name": "stdout",
     "output_type": "stream",
     "text": [
      "Encoded: [315, 2049, 9, 601, 5]\n",
      "Decoded: He llo , world !\n"
     ]
    }
   ],
   "source": [
    "# Load the tokenizer\n",
    "tokenizer = Tokenizer.from_file(\"bpe_tokenizer_bookcorpus_1k.json\")\n",
    "\n",
    "# Encode and decode functions\n",
    "encode = lambda s: tokenizer.encode(s).ids\n",
    "decode = lambda l: tokenizer.decode(l)\n",
    "\n",
    "# Example usage\n",
    "encoded = encode(\"Hello, world!\")\n",
    "decoded = decode(encoded)\n",
    "print(f\"Encoded: {encoded}\\nDecoded: {decoded}\")"
   ]
  },
  {
   "cell_type": "code",
   "execution_count": null,
   "metadata": {},
   "outputs": [],
   "source": []
  }
 ],
 "metadata": {
  "kernelspec": {
   "display_name": "venv",
   "language": "python",
   "name": "python3"
  },
  "language_info": {
   "codemirror_mode": {
    "name": "ipython",
    "version": 3
   },
   "file_extension": ".py",
   "mimetype": "text/x-python",
   "name": "python",
   "nbconvert_exporter": "python",
   "pygments_lexer": "ipython3",
   "version": "3.10.13"
  }
 },
 "nbformat": 4,
 "nbformat_minor": 2
}
